{
 "cells": [
  {
   "cell_type": "code",
   "execution_count": null,
   "id": "5881735a-71ab-44eb-b535-0b768f0dda75",
   "metadata": {},
   "outputs": [],
   "source": [
    "import pandas as pd\n",
    "\n",
    "# Load Excel data using actual sheet name\n",
    "df = pd.read_excel('Running Order Table Pocono Cup 2025.xlsx', sheet_name='MotorSports')\n",
    "\n",
    "# Data cleaning: drop the first row and reset index\n",
    "df_cleaned = df.drop(index=0).reset_index(drop=True)\n",
    "\n",
    "# Rename the first column explicitly based on actual spreadsheet content\n",
    "df_cleaned.rename(columns={'Unnamed: 0': 'Lap'}, inplace=True)\n",
    "\n",
    "# Define all caution periods explicitly based on provided information (including initial start)\n",
    "caution_periods = [(0, 7), (32, 35), (43, 48), (56, 60), (78, 80), (84, 87), (97, 100), (126, 130)]\n",
    "\n",
    "# Calculate restart laps\n",
    "restart_laps = [end + 1 for _, end in caution_periods]\n",
    "\n",
    "# Calculate top 16 drivers for each restart lap\n",
    "top_16_per_restart = {}\n",
    "for lap in restart_laps:\n",
    "    row = df_cleaned[df_cleaned['Lap'] == lap].iloc[0]\n",
    "    top_drivers = row[[i for i in range(1, 41)]].dropna().astype(int).head(16).tolist()\n",
    "    top_16_per_restart[lap] = top_drivers\n",
    "\n",
    "# Convert results into a DataFrame\n",
    "top_16_df = pd.DataFrame.from_dict(\n",
    "    top_16_per_restart,\n",
    "    orient='index',\n",
    "    columns=[f'Position_{i+1}' for i in range(16)]\n",
    ")\n",
    "top_16_df.reset_index(inplace=True)\n",
    "top_16_df.rename(columns={'index': 'Lap'}, inplace=True)\n",
    "\n",
    "# Save to Excel if needed\n",
    "top_16_df.to_excel('top_16_drivers_per_restart.xlsx', index=False)\n",
    "\n",
    "# Display resulting DataFrame\n",
    "print(top_16_df.head())"
   ]
  },
  {
   "cell_type": "code",
   "execution_count": null,
   "id": "dcbf3972-dae1-412e-92ec-f66c7d3a7080",
   "metadata": {},
   "outputs": [],
   "source": []
  }
 ],
 "metadata": {
  "kernelspec": {
   "display_name": "Python [conda env:base] *",
   "language": "python",
   "name": "conda-base-py"
  },
  "language_info": {
   "codemirror_mode": {
    "name": "ipython",
    "version": 3
   },
   "file_extension": ".py",
   "mimetype": "text/x-python",
   "name": "python",
   "nbconvert_exporter": "python",
   "pygments_lexer": "ipython3",
   "version": "3.12.7"
  }
 },
 "nbformat": 4,
 "nbformat_minor": 5
}
